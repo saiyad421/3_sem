{
 "cells": [
  {
   "cell_type": "code",
   "execution_count": null,
   "id": "e655f8de",
   "metadata": {},
   "outputs": [],
   "source": []
  },
  {
   "cell_type": "markdown",
   "id": "ea2ae450",
   "metadata": {},
   "source": [
    "Variables."
   ]
  },
  {
   "cell_type": "code",
   "execution_count": null,
   "id": "3ca157c4",
   "metadata": {},
   "outputs": [],
   "source": [
    "#variables\n",
    "name = \"Saiyad\"  #Name is a varaible and \"saiyad \" is a value of name"
   ]
  },
  {
   "cell_type": "markdown",
   "id": "ac4236ab",
   "metadata": {},
   "source": [
    "Data Types.."
   ]
  },
  {
   "cell_type": "code",
   "execution_count": null,
   "id": "ab49aa46",
   "metadata": {},
   "outputs": [
    {
     "data": {
      "text/plain": [
       "NoneType"
      ]
     },
     "execution_count": 1,
     "metadata": {},
     "output_type": "execute_result"
    }
   ],
   "source": [
    "a = 58 #it is integer\n",
    "b = \"saiyad\" #it is string\n",
    "c= 5.2 # It is float\n",
    "d = True , False # It is boolean\n",
    "e = None  # it Is None\n",
    "\n",
    "\n",
    "#Data Types\n",
    "\n",
    "type(a) \n",
    "type(b)\n",
    "type(c)\n",
    "type(d)\n",
    "type(e)\n",
    "\n",
    "\n"
   ]
  },
  {
   "cell_type": "markdown",
   "id": "03a47613",
   "metadata": {},
   "source": [
    "Comments in Python\n",
    "\n"
   ]
  },
  {
   "cell_type": "code",
   "execution_count": null,
   "id": "16d46cca",
   "metadata": {},
   "outputs": [],
   "source": [
    "# Single line comments\n",
    "\"\"\"\n",
    "Multi \n",
    "line\n",
    " Comments\n",
    "\"\"\" \n"
   ]
  },
  {
   "cell_type": "markdown",
   "id": "8cd5e550",
   "metadata": {},
   "source": [
    "Types of Operators"
   ]
  },
  {
   "cell_type": "markdown",
   "id": "5e01274b",
   "metadata": {},
   "source": [
    "Arithmetic opreators = +,-,*,/,%,**\n",
    "\n",
    "Relational / comparision Operators = == , != , >, => etc\n",
    "\n",
    "\n",
    "Assignment Operators ( = , +=, -= , *= , /= , %= , **= )\n",
    "\n",
    "\n",
    "Logical Operators ( not , and , or )\n",
    "\n",
    "\n",
    "\n",
    "\n"
   ]
  },
  {
   "cell_type": "markdown",
   "id": "3b099eb1",
   "metadata": {},
   "source": []
  },
  {
   "cell_type": "markdown",
   "id": "923b079c",
   "metadata": {},
   "source": [
    "Type Conversion"
   ]
  },
  {
   "cell_type": "code",
   "execution_count": null,
   "id": "645b7744",
   "metadata": {},
   "outputs": [
    {
     "ename": "TypeError",
     "evalue": "unsupported operand type(s) for +: 'int' and 'str'",
     "output_type": "error",
     "traceback": [
      "\u001b[1;31m---------------------------------------------------------------------------\u001b[0m",
      "\u001b[1;31mTypeError\u001b[0m                                 Traceback (most recent call last)",
      "Cell \u001b[1;32mIn[2], line 5\u001b[0m\n\u001b[0;32m      2\u001b[0m \u001b[38;5;28msum\u001b[39m \u001b[38;5;241m=\u001b[39m a\u001b[38;5;241m+\u001b[39mb \n\u001b[0;32m      4\u001b[0m a,b \u001b[38;5;241m=\u001b[39m \u001b[38;5;241m1\u001b[39m,\u001b[38;5;124m\"\u001b[39m\u001b[38;5;124m2\u001b[39m\u001b[38;5;124m\"\u001b[39m\n\u001b[1;32m----> 5\u001b[0m \u001b[38;5;28msum\u001b[39m \u001b[38;5;241m=\u001b[39m a\u001b[38;5;241m+\u001b[39mb\n",
      "\u001b[1;31mTypeError\u001b[0m: unsupported operand type(s) for +: 'int' and 'str'"
     ]
    }
   ],
   "source": [
    "a,b = 1,2.2\n",
    "sum = a+b \n",
    "\n",
    "a,b = 1,\"2\"\n",
    "sum = a+b # Error"
   ]
  },
  {
   "cell_type": "markdown",
   "id": "f5abfee1",
   "metadata": {},
   "source": [
    "Type Casting"
   ]
  },
  {
   "cell_type": "code",
   "execution_count": null,
   "id": "809b3f02",
   "metadata": {},
   "outputs": [],
   "source": [
    "a,b = 1,\"4\"\n",
    "c = int(b)\n",
    "sum = a+c"
   ]
  },
  {
   "cell_type": "markdown",
   "id": "d3bd46be",
   "metadata": {},
   "source": [
    "Input in python"
   ]
  },
  {
   "cell_type": "code",
   "execution_count": 13,
   "id": "e5bb1876",
   "metadata": {},
   "outputs": [
    {
     "name": "stdout",
     "output_type": "stream",
     "text": [
      "12\n"
     ]
    }
   ],
   "source": [
    "a = int(input(\"enter a num :\"))\n",
    "b = int(input(\"enter a num :\"))\n",
    "\n",
    "sum = a+b\n",
    "print(sum)\n"
   ]
  },
  {
   "cell_type": "code",
   "execution_count": 14,
   "id": "8cfe21c2",
   "metadata": {},
   "outputs": [
    {
     "name": "stdout",
     "output_type": "stream",
     "text": [
      "True\n"
     ]
    }
   ],
   "source": [
    "b = int(input(\"enter a num\"))\n",
    "c = int(input(\"enter a num\"))\n",
    "if a >=b:\n",
    "    print(\"True\")\n",
    "\n",
    "else:\n",
    "    print(\"False\")"
   ]
  },
  {
   "cell_type": "code",
   "execution_count": null,
   "id": "0eebf9d7",
   "metadata": {},
   "outputs": [],
   "source": []
  }
 ],
 "metadata": {
  "kernelspec": {
   "display_name": "base",
   "language": "python",
   "name": "python3"
  },
  "language_info": {
   "codemirror_mode": {
    "name": "ipython",
    "version": 3
   },
   "file_extension": ".py",
   "mimetype": "text/x-python",
   "name": "python",
   "nbconvert_exporter": "python",
   "pygments_lexer": "ipython3",
   "version": "3.12.4"
  }
 },
 "nbformat": 4,
 "nbformat_minor": 5
}
