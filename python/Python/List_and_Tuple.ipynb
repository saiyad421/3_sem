{
 "cells": [
  {
   "cell_type": "markdown",
   "id": "feb2dff4",
   "metadata": {},
   "source": [
    "List in python\n",
    "\n",
    "A built-in data type that stores set of values\n",
    "\n",
    "it can store elements of diffrents types (int,float,str,..etc)"
   ]
  },
  {
   "cell_type": "markdown",
   "id": "ba247d34",
   "metadata": {},
   "source": [
    "marks = []"
   ]
  }
 ],
 "metadata": {
  "language_info": {
   "name": "python"
  }
 },
 "nbformat": 4,
 "nbformat_minor": 5
}
