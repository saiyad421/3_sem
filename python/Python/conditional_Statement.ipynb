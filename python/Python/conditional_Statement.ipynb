{
 "cells": [
  {
   "cell_type": "markdown",
   "id": "e935b9af",
   "metadata": {},
   "source": [
    "Strings\n",
    "\n",
    "String is data types that stores a sequence of characters"
   ]
  },
  {
   "cell_type": "code",
   "execution_count": null,
   "id": "faf2626a",
   "metadata": {},
   "outputs": [
    {
     "data": {
      "text/plain": [
       "'helloworld'"
      ]
     },
     "execution_count": 1,
     "metadata": {},
     "output_type": "execute_result"
    }
   ],
   "source": [
    "# Basic opreations\n",
    "\"hello\" + \"world\"  # Concatenation"
   ]
  },
  {
   "cell_type": "code",
   "execution_count": 2,
   "id": "210ed4b6",
   "metadata": {},
   "outputs": [
    {
     "data": {
      "text/plain": [
       "6"
      ]
     },
     "execution_count": 2,
     "metadata": {},
     "output_type": "execute_result"
    }
   ],
   "source": [
    "#lenth\n",
    "\n",
    "str = \"saiyad\"\n",
    "len(str)"
   ]
  },
  {
   "cell_type": "markdown",
   "id": "7ce84165",
   "metadata": {},
   "source": [
    "Indenxing\""
   ]
  },
  {
   "cell_type": "code",
   "execution_count": 3,
   "id": "474e305a",
   "metadata": {},
   "outputs": [
    {
     "data": {
      "text/plain": [
       "'a'"
      ]
     },
     "execution_count": 3,
     "metadata": {},
     "output_type": "execute_result"
    }
   ],
   "source": [
    "name = \"saiyad alam\"\n",
    "name[1] # a\n"
   ]
  },
  {
   "cell_type": "markdown",
   "id": "578cf42a",
   "metadata": {},
   "source": [
    "Slicing"
   ]
  },
  {
   "cell_type": "code",
   "execution_count": 4,
   "id": "28debd9b",
   "metadata": {},
   "outputs": [
    {
     "data": {
      "text/plain": [
       "'sai'"
      ]
     },
     "execution_count": 4,
     "metadata": {},
     "output_type": "execute_result"
    }
   ],
   "source": [
    "name = \"saiyad\"\n",
    "name[0:3] # sai\n"
   ]
  },
  {
   "cell_type": "code",
   "execution_count": 5,
   "id": "f6c8a87e",
   "metadata": {},
   "outputs": [
    {
     "data": {
      "text/plain": [
       "'pl'"
      ]
     },
     "execution_count": 5,
     "metadata": {},
     "output_type": "execute_result"
    }
   ],
   "source": [
    "# Negative Slicing\n",
    "\n",
    "str = \"apple\"\n",
    "str[-3:-1]  #pl\n",
    "\n"
   ]
  },
  {
   "cell_type": "markdown",
   "id": "38fcc604",
   "metadata": {},
   "source": [
    "String Funnction"
   ]
  },
  {
   "cell_type": "code",
   "execution_count": 10,
   "id": "67d38c90",
   "metadata": {},
   "outputs": [
    {
     "data": {
      "text/plain": [
       "1"
      ]
     },
     "execution_count": 10,
     "metadata": {},
     "output_type": "execute_result"
    }
   ],
   "source": [
    "str = \"I am a coder\"\n",
    "\n",
    "str.endswith(\"er\") # Return true if string ends with substr\n",
    "\n",
    "str.capitalize() # Capitalize 1st Char\n",
    "\n",
    "str.replace(\"I am a coder\",\"i am a student\") # replace all occurrence of old with new\n",
    "\n",
    "str.find(\"student\") # returns 1st index  of 1st occurnece\n",
    "\n",
    "\n",
    "str.count(\"am\") # counts the occurrence of substr in string\n",
    "\n"
   ]
  },
  {
   "cell_type": "markdown",
   "id": "a56b90c3",
   "metadata": {},
   "source": [
    "Conditional Statements"
   ]
  },
  {
   "cell_type": "markdown",
   "id": "c5df2e7e",
   "metadata": {},
   "source": [
    "#if - elif - else (Syntex)"
   ]
  },
  {
   "cell_type": "code",
   "execution_count": 12,
   "id": "932a1556",
   "metadata": {},
   "outputs": [
    {
     "name": "stdout",
     "output_type": "stream",
     "text": [
      "Grade B\n"
     ]
    }
   ],
   "source": [
    "marks = int(input(\"enter the marks :\"))\n",
    "\n",
    "if marks >= 90:\n",
    "    print(\"Grade A\")\n",
    "\n",
    "elif marks <90 >=80:\n",
    "    print(\"Grade B\")\n",
    "\n",
    "elif marks <80 >= 70:\n",
    "    print(\"Grade C\")\n",
    "\n",
    "else:\n",
    "    print(\"D\")\n",
    " \n",
    "            \n"
   ]
  },
  {
   "cell_type": "code",
   "execution_count": 13,
   "id": "e2cb3ae2",
   "metadata": {},
   "outputs": [
    {
     "name": "stdout",
     "output_type": "stream",
     "text": [
      "Even\n"
     ]
    }
   ],
   "source": [
    "#Check num is even or odd\n",
    "\n",
    "num = int(input(\"enter a num\"))\n",
    "\n",
    "if num % 2 ==0:\n",
    "    print(\"Even\")\n",
    "\n",
    "else:\n",
    "    print(\"ODD\")\n"
   ]
  },
  {
   "cell_type": "code",
   "execution_count": 3,
   "id": "45587019",
   "metadata": {},
   "outputs": [
    {
     "name": "stdout",
     "output_type": "stream",
     "text": [
      "\n",
      "===== DOUBLY LINKED LIST MENU =====\n",
      "1. Insert at Beginning\n",
      "2. Insert at End\n",
      "3. Delete from Beginning\n",
      "4. Delete from End\n",
      "5. Delete by Value\n",
      "6. Display List\n",
      "7. Exit\n",
      "Invalid choice! Try again.\n",
      "\n",
      "===== DOUBLY LINKED LIST MENU =====\n",
      "1. Insert at Beginning\n",
      "2. Insert at End\n",
      "3. Delete from Beginning\n",
      "4. Delete from End\n",
      "5. Delete by Value\n",
      "6. Display List\n",
      "7. Exit\n",
      "Invalid choice! Try again.\n",
      "\n",
      "===== DOUBLY LINKED LIST MENU =====\n",
      "1. Insert at Beginning\n",
      "2. Insert at End\n",
      "3. Delete from Beginning\n",
      "4. Delete from End\n",
      "5. Delete by Value\n",
      "6. Display List\n",
      "7. Exit\n",
      "Invalid choice! Try again.\n",
      "\n",
      "===== DOUBLY LINKED LIST MENU =====\n",
      "1. Insert at Beginning\n",
      "2. Insert at End\n",
      "3. Delete from Beginning\n",
      "4. Delete from End\n",
      "5. Delete by Value\n",
      "6. Display List\n",
      "7. Exit\n",
      "Invalid choice! Try again.\n",
      "\n",
      "===== DOUBLY LINKED LIST MENU =====\n",
      "1. Insert at Beginning\n",
      "2. Insert at End\n",
      "3. Delete from Beginning\n",
      "4. Delete from End\n",
      "5. Delete by Value\n",
      "6. Display List\n",
      "7. Exit\n",
      "Invalid choice! Try again.\n",
      "\n",
      "===== DOUBLY LINKED LIST MENU =====\n",
      "1. Insert at Beginning\n",
      "2. Insert at End\n",
      "3. Delete from Beginning\n",
      "4. Delete from End\n",
      "5. Delete by Value\n",
      "6. Display List\n",
      "7. Exit\n",
      "\n",
      "===== DOUBLY LINKED LIST MENU =====\n",
      "1. Insert at Beginning\n",
      "2. Insert at End\n",
      "3. Delete from Beginning\n",
      "4. Delete from End\n",
      "5. Delete by Value\n",
      "6. Display List\n",
      "7. Exit\n",
      "Invalid choice! Try again.\n",
      "\n",
      "===== DOUBLY LINKED LIST MENU =====\n",
      "1. Insert at Beginning\n",
      "2. Insert at End\n",
      "3. Delete from Beginning\n",
      "4. Delete from End\n",
      "5. Delete by Value\n",
      "6. Display List\n",
      "7. Exit\n",
      "Invalid choice! Try again.\n",
      "\n",
      "===== DOUBLY LINKED LIST MENU =====\n",
      "1. Insert at Beginning\n",
      "2. Insert at End\n",
      "3. Delete from Beginning\n",
      "4. Delete from End\n",
      "5. Delete by Value\n",
      "6. Display List\n",
      "7. Exit\n",
      "Invalid choice! Try again.\n",
      "\n",
      "===== DOUBLY LINKED LIST MENU =====\n",
      "1. Insert at Beginning\n",
      "2. Insert at End\n",
      "3. Delete from Beginning\n",
      "4. Delete from End\n",
      "5. Delete by Value\n",
      "6. Display List\n",
      "7. Exit\n",
      "Invalid choice! Try again.\n",
      "\n",
      "===== DOUBLY LINKED LIST MENU =====\n",
      "1. Insert at Beginning\n",
      "2. Insert at End\n",
      "3. Delete from Beginning\n",
      "4. Delete from End\n",
      "5. Delete by Value\n",
      "6. Display List\n",
      "7. Exit\n",
      "Invalid choice! Try again.\n",
      "\n",
      "===== DOUBLY LINKED LIST MENU =====\n",
      "1. Insert at Beginning\n",
      "2. Insert at End\n",
      "3. Delete from Beginning\n",
      "4. Delete from End\n",
      "5. Delete by Value\n",
      "6. Display List\n",
      "7. Exit\n",
      "Invalid choice! Try again.\n",
      "\n",
      "===== DOUBLY LINKED LIST MENU =====\n",
      "1. Insert at Beginning\n",
      "2. Insert at End\n",
      "3. Delete from Beginning\n",
      "4. Delete from End\n",
      "5. Delete by Value\n",
      "6. Display List\n",
      "7. Exit\n",
      "Invalid choice! Try again.\n",
      "\n",
      "===== DOUBLY LINKED LIST MENU =====\n",
      "1. Insert at Beginning\n",
      "2. Insert at End\n",
      "3. Delete from Beginning\n",
      "4. Delete from End\n",
      "5. Delete by Value\n",
      "6. Display List\n",
      "7. Exit\n",
      "Value 585 not found in list.\n",
      "\n",
      "===== DOUBLY LINKED LIST MENU =====\n",
      "1. Insert at Beginning\n",
      "2. Insert at End\n",
      "3. Delete from Beginning\n",
      "4. Delete from End\n",
      "5. Delete by Value\n",
      "6. Display List\n",
      "7. Exit\n",
      "Invalid choice! Try again.\n",
      "\n",
      "===== DOUBLY LINKED LIST MENU =====\n",
      "1. Insert at Beginning\n",
      "2. Insert at End\n",
      "3. Delete from Beginning\n",
      "4. Delete from End\n",
      "5. Delete by Value\n",
      "6. Display List\n",
      "7. Exit\n",
      "Invalid choice! Try again.\n",
      "\n",
      "===== DOUBLY LINKED LIST MENU =====\n",
      "1. Insert at Beginning\n",
      "2. Insert at End\n",
      "3. Delete from Beginning\n",
      "4. Delete from End\n",
      "5. Delete by Value\n",
      "6. Display List\n",
      "7. Exit\n",
      "Invalid choice! Try again.\n",
      "\n",
      "===== DOUBLY LINKED LIST MENU =====\n",
      "1. Insert at Beginning\n",
      "2. Insert at End\n",
      "3. Delete from Beginning\n",
      "4. Delete from End\n",
      "5. Delete by Value\n",
      "6. Display List\n",
      "7. Exit\n"
     ]
    },
    {
     "ename": "ValueError",
     "evalue": "invalid literal for int() with base 10: ''",
     "output_type": "error",
     "traceback": [
      "\u001b[1;31m---------------------------------------------------------------------------\u001b[0m",
      "\u001b[1;31mValueError\u001b[0m                                Traceback (most recent call last)",
      "Cell \u001b[1;32mIn[3], line 100\u001b[0m\n\u001b[0;32m     97\u001b[0m \u001b[38;5;28mprint\u001b[39m(\u001b[38;5;124m\"\u001b[39m\u001b[38;5;124m6. Display List\u001b[39m\u001b[38;5;124m\"\u001b[39m)\n\u001b[0;32m     98\u001b[0m \u001b[38;5;28mprint\u001b[39m(\u001b[38;5;124m\"\u001b[39m\u001b[38;5;124m7. Exit\u001b[39m\u001b[38;5;124m\"\u001b[39m)\n\u001b[1;32m--> 100\u001b[0m choice \u001b[38;5;241m=\u001b[39m \u001b[38;5;28mint\u001b[39m(\u001b[38;5;28minput\u001b[39m(\u001b[38;5;124m\"\u001b[39m\u001b[38;5;124mEnter your choice: \u001b[39m\u001b[38;5;124m\"\u001b[39m))\n\u001b[0;32m    102\u001b[0m \u001b[38;5;28;01mif\u001b[39;00m choice \u001b[38;5;241m==\u001b[39m \u001b[38;5;241m1\u001b[39m:\n\u001b[0;32m    103\u001b[0m     data \u001b[38;5;241m=\u001b[39m \u001b[38;5;28mint\u001b[39m(\u001b[38;5;28minput\u001b[39m(\u001b[38;5;124m\"\u001b[39m\u001b[38;5;124mEnter value: \u001b[39m\u001b[38;5;124m\"\u001b[39m))\n",
      "\u001b[1;31mValueError\u001b[0m: invalid literal for int() with base 10: ''"
     ]
    }
   ],
   "source": [
    "# Node class\n",
    "class Node:\n",
    "    def __init__(self, data):\n",
    "        self.data = data\n",
    "        self.prev = None\n",
    "        self.next = None\n",
    "\n",
    "# Doubly Linked List class\n",
    "class DoublyLinkedList:\n",
    "    def __init__(self):\n",
    "        self.head = None\n",
    "\n",
    "    # Insert at beginning\n",
    "    def insert_at_begin(self, data):\n",
    "        new_node = Node(data)\n",
    "        if self.head is None:\n",
    "            self.head = new_node\n",
    "        else:\n",
    "            new_node.next = self.head\n",
    "            self.head.prev = new_node\n",
    "            self.head = new_node\n",
    "\n",
    "    # Insert at end\n",
    "    def insert_at_end(self, data):\n",
    "        new_node = Node(data)\n",
    "        if self.head is None:\n",
    "            self.head = new_node\n",
    "            return\n",
    "        temp = self.head\n",
    "        while temp.next:\n",
    "            temp = temp.next\n",
    "        temp.next = new_node\n",
    "        new_node.prev = temp\n",
    "\n",
    "    # Delete from beginning\n",
    "    def delete_from_begin(self):\n",
    "        if self.head is None:\n",
    "            print(\"List is empty!\")\n",
    "            return\n",
    "        if self.head.next is None:\n",
    "            self.head = None\n",
    "        else:\n",
    "            self.head = self.head.next\n",
    "            self.head.prev = None\n",
    "\n",
    "    # Delete from end\n",
    "    def delete_from_end(self):\n",
    "        if self.head is None:\n",
    "            print(\"List is empty!\")\n",
    "            return\n",
    "        if self.head.next is None:\n",
    "            self.head = None\n",
    "            return\n",
    "        temp = self.head\n",
    "        while temp.next:\n",
    "            temp = temp.next\n",
    "        temp.prev.next = None\n",
    "\n",
    "    # Delete by value\n",
    "    def delete_by_value(self, key):\n",
    "        temp = self.head\n",
    "        while temp:\n",
    "            if temp.data == key:\n",
    "                if temp.prev:\n",
    "                    temp.prev.next = temp.next\n",
    "                if temp.next:\n",
    "                    temp.next.prev = temp.prev\n",
    "                if temp == self.head:  # deleting head node\n",
    "                    self.head = temp.next\n",
    "                print(f\"{key} deleted successfully.\")\n",
    "                return\n",
    "            temp = temp.next\n",
    "        print(f\"Value {key} not found in list.\")\n",
    "\n",
    "    # Display forward\n",
    "    def display_forward(self):\n",
    "        temp = self.head\n",
    "        if temp is None:\n",
    "            print(\"List is empty!\")\n",
    "            return\n",
    "        while temp:\n",
    "            print(temp.data, end=\" <-> \")\n",
    "            temp = temp.next\n",
    "        print(\"None\")\n",
    "\n",
    "\n",
    "# ================= Menu Driven Program =================\n",
    "dll = DoublyLinkedList()\n",
    "\n",
    "while True:\n",
    "    print(\"\\n===== DOUBLY LINKED LIST MENU =====\")\n",
    "    print(\"1. Insert at Beginning\")\n",
    "    print(\"2. Insert at End\")\n",
    "    print(\"3. Delete from Beginning\")\n",
    "    print(\"4. Delete from End\")\n",
    "    print(\"5. Delete by Value\")\n",
    "    print(\"6. Display List\")\n",
    "    print(\"7. Exit\")\n",
    "\n",
    "    choice = int(input(\"Enter your choice: \"))\n",
    "\n",
    "    if choice == 1:\n",
    "        data = int(input(\"Enter value: \"))\n",
    "        dll.insert_at_begin(data)\n",
    "    elif choice == 2:\n",
    "        data = int(input(\"Enter value: \"))\n",
    "        dll.insert_at_end(data)\n",
    "    elif choice == 3:\n",
    "        dll.delete_from_begin()\n",
    "    elif choice == 4:\n",
    "        dll.delete_from_end()\n",
    "    elif choice == 5:\n",
    "        key = int(input(\"Enter value to delete: \"))\n",
    "        dll.delete_by_value(key)\n",
    "    elif choice == 6:\n",
    "        dll.display_forward()\n",
    "    elif choice == 7:\n",
    "        print(\"Exiting program...\")\n",
    "        break\n",
    "    else:\n",
    "        print(\"Invalid choice! Try again.\")\n",
    "\n",
    "        \n"
   ]
  },
  {
   "cell_type": "code",
   "execution_count": null,
   "id": "161f07a1",
   "metadata": {},
   "outputs": [],
   "source": []
  }
 ],
 "metadata": {
  "kernelspec": {
   "display_name": "base",
   "language": "python",
   "name": "python3"
  },
  "language_info": {
   "codemirror_mode": {
    "name": "ipython",
    "version": 3
   },
   "file_extension": ".py",
   "mimetype": "text/x-python",
   "name": "python",
   "nbconvert_exporter": "python",
   "pygments_lexer": "ipython3",
   "version": "3.12.4"
  }
 },
 "nbformat": 4,
 "nbformat_minor": 5
}
