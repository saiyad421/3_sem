{
 "cells": [
  {
   "cell_type": "markdown",
   "id": "4a3d3ae8",
   "metadata": {},
   "source": [
    "f-String in Python\n",
    "\n",
    "An f-string in Python is a fast way to format strings by putting variables inside curly braces {} directly in the string."
   ]
  },
  {
   "cell_type": "code",
   "execution_count": 5,
   "id": "75b2c35e",
   "metadata": {},
   "outputs": [
    {
     "name": "stdout",
     "output_type": "stream",
     "text": [
      "hey i am Saiayd and from India \n"
     ]
    }
   ],
   "source": [
    "letter = \"hey my name is {}  and i am from {}\"\n",
    "\n",
    "country = \"India\"\n",
    "name =\"Saiayd\"\n",
    "\n",
    "letter.format(name,country)\n",
    "\n",
    "\n",
    "print(f\"hey i am {name} and from {country} \")"
   ]
  },
  {
   "cell_type": "markdown",
   "id": "4ccc82e6",
   "metadata": {},
   "source": [
    "Docstrings in python\n",
    "\n",
    "Docstring in Python = documentation string.\n",
    "It’s a special string written inside triple quotes \"\"\" \"\"\" at the start of a function, class, or module to describe what it does."
   ]
  },
  {
   "cell_type": "code",
   "execution_count": null,
   "id": "80f1c3fc",
   "metadata": {},
   "outputs": [
    {
     "name": "stdout",
     "output_type": "stream",
     "text": [
      "25\n",
      "Takes in a number n, returns the squre of n\n"
     ]
    }
   ],
   "source": [
    "def squre(n):\n",
    "    '''Takes in a number n, returns the squre of n'''\n",
    "    print(n**2)\n",
    "\n",
    "squre(5)\n",
    "print(squre.__doc__)  #Docstring  \n",
    "\n"
   ]
  },
  {
   "cell_type": "markdown",
   "id": "969c082a",
   "metadata": {},
   "source": [
    "Recursion in python\n",
    "\n",
    "when function call its self it is called recursion"
   ]
  },
  {
   "cell_type": "code",
   "execution_count": 20,
   "id": "305664cf",
   "metadata": {},
   "outputs": [
    {
     "name": "stdout",
     "output_type": "stream",
     "text": [
      "None\n"
     ]
    }
   ],
   "source": [
    "def num(n):\n",
    "    if n == 0 or n==1:\n",
    "        return 0\n",
    "    \n",
    "    num(n-1)\n",
    "\n",
    "print(num(7))    "
   ]
  },
  {
   "cell_type": "markdown",
   "id": "b6ccf035",
   "metadata": {},
   "source": [
    "for loop with else in python\n",
    "\n",
    "Python, a for...else loop means:\n",
    "\n",
    "The else part runs only if the loop finishes normally (no break).\n",
    "\n",
    "If the loop is stopped by break, the else part is skipped.\n",
    "\n"
   ]
  },
  {
   "cell_type": "code",
   "execution_count": null,
   "id": "6478e4be",
   "metadata": {},
   "outputs": [
    {
     "name": "stdout",
     "output_type": "stream",
     "text": [
      "0\n",
      "1\n",
      "2\n",
      "3\n",
      "4\n",
      "5\n",
      "6\n",
      "7\n",
      "8\n",
      "9\n",
      "sorry n o i \n"
     ]
    }
   ],
   "source": [
    "for i in range(10):\n",
    "    print(i)\n",
    "\n",
    "else:\n",
    "    print(\"sorry n o i \") #it will excute\n",
    "\n",
    "    \n",
    "       "
   ]
  },
  {
   "cell_type": "code",
   "execution_count": 1,
   "id": "bd99dafe",
   "metadata": {},
   "outputs": [
    {
     "name": "stdout",
     "output_type": "stream",
     "text": [
      "0\n",
      "1\n",
      "2\n",
      "3\n",
      "4\n",
      "5\n"
     ]
    }
   ],
   "source": [
    "for i in range(10):\n",
    "    print(i)\n",
    "    if i == 5:\n",
    "        break # It is not break it has been break\n",
    "\n",
    "else:\n",
    "    print(\"Loop is break..\") # it will not excute   "
   ]
  },
  {
   "cell_type": "markdown",
   "id": "9d4d7441",
   "metadata": {},
   "source": [
    "Exception handling in python\n",
    "\n",
    "exception handling in Python in short words:\n",
    "\n",
    "try: Code that may cause error\n",
    "\n",
    "except: Handle the error\n",
    "\n",
    "else: Runs if no error\n",
    "\n",
    "finally: Always runs\n",
    "\n",
    "raise: Manually throw an error\n",
    "\n"
   ]
  },
  {
   "cell_type": "code",
   "execution_count": 1,
   "id": "f706a597",
   "metadata": {},
   "outputs": [
    {
     "name": "stdout",
     "output_type": "stream",
     "text": [
      "Multification table of 7 is :\n",
      "7 x 1 = 7\n",
      "7 x 2 = 14\n",
      "7 x 3 = 21\n",
      "7 x 4 = 28\n",
      "7 x 5 = 35\n",
      "7 x 6 = 42\n",
      "7 x 7 = 49\n",
      "7 x 8 = 56\n",
      "7 x 9 = 63\n",
      "7 x 10 = 70\n"
     ]
    }
   ],
   "source": [
    "#Exception handling in python\n",
    "\n",
    "a = input(\"enter the number :\")\n",
    "\n",
    "print(f\"Multification table of {a} is :\")\n",
    "\n",
    "for i in range(1,11):\n",
    "    print(f\"{int(a)} x {i} = {int(a)*i}\")"
   ]
  },
  {
   "cell_type": "code",
   "execution_count": 4,
   "id": "936ff50d",
   "metadata": {},
   "outputs": [
    {
     "name": "stdout",
     "output_type": "stream",
     "text": [
      "Multification table of saiuad is :\n",
      "Sorry some error\n",
      "Some imp lines of code\n",
      "End of program\n"
     ]
    }
   ],
   "source": [
    "#Error\n",
    "a = input(\"enter the number :\")\n",
    "\n",
    "print(f\"Multification table of {a} is :\")\n",
    "\n",
    "try:\n",
    "    for i in range(1,11):\n",
    "        print(f\"{int(a)} x {i} = {int(a)*i}\")\n",
    "except Exception as e:\n",
    "    print(\"Sorry some error\")\n",
    "\n",
    "\n",
    "print(\"Some imp lines of code\")\n",
    "print(\"End of program\")    "
   ]
  },
  {
   "cell_type": "markdown",
   "id": "3c09beb0",
   "metadata": {},
   "source": [
    "Finally kewwords in python\n",
    "\n",
    "Always runs no matter what (error or no error).\n",
    "\n",
    "Usually used to clean up resources (like closing files"
   ]
  },
  {
   "cell_type": "markdown",
   "id": "7129667d",
   "metadata": {},
   "source": []
  },
  {
   "cell_type": "code",
   "execution_count": 7,
   "id": "54034efb",
   "metadata": {},
   "outputs": [
    {
     "name": "stdout",
     "output_type": "stream",
     "text": [
      "4.2\n",
      "Thank you...\n"
     ]
    }
   ],
   "source": [
    "num = input(\"Enter a num :\")\n",
    "\n",
    "try:\n",
    "    print(num)\n",
    "\n",
    "except:\n",
    "    print(\"Invalid syntex...\")  \n",
    "\n",
    "finally:\n",
    "    print(\"Thank you...\")      "
   ]
  },
  {
   "cell_type": "markdown",
   "id": "150bee30",
   "metadata": {},
   "source": [
    "Custom error in python\n",
    "\n",
    "You can create your own exceptions by inheriting from the Exception class.\n",
    "\n",
    "Useful when you want specific error messages for your program.\n",
    "\n"
   ]
  },
  {
   "cell_type": "code",
   "execution_count": 12,
   "id": "1c8a58f4",
   "metadata": {},
   "outputs": [
    {
     "ename": "ValueError",
     "evalue": "invalid literal for int() with base 10: 'quit'",
     "output_type": "error",
     "traceback": [
      "\u001b[1;31m---------------------------------------------------------------------------\u001b[0m",
      "\u001b[1;31mValueError\u001b[0m                                Traceback (most recent call last)",
      "Cell \u001b[1;32mIn[12], line 1\u001b[0m\n\u001b[1;32m----> 1\u001b[0m a \u001b[38;5;241m=\u001b[39m \u001b[38;5;28mint\u001b[39m(\u001b[38;5;28minput\u001b[39m(\u001b[38;5;124m\"\u001b[39m\u001b[38;5;124menter any num between 3 to 9 :\u001b[39m\u001b[38;5;124m\"\u001b[39m))\n\u001b[0;32m      4\u001b[0m \u001b[38;5;28;01mif\u001b[39;00m a \u001b[38;5;241m==\u001b[39m \u001b[38;5;124m\"\u001b[39m\u001b[38;5;124mquit\u001b[39m\u001b[38;5;124m\"\u001b[39m:\n\u001b[0;32m      5\u001b[0m     \u001b[38;5;28mprint\u001b[39m(\u001b[38;5;28mstr\u001b[39m(a))\n",
      "\u001b[1;31mValueError\u001b[0m: invalid literal for int() with base 10: 'quit'"
     ]
    }
   ],
   "source": [
    "a = int(input(\"enter any num between 3 to 9 :\"))\n",
    "\n",
    "\n",
    "if a == \"quit\":\n",
    "    print(str(a))\n",
    "else: \n",
    "    (a<3 or a>9)\n",
    "    raise ValueError(\"Value should be between 3 and 9\")\n",
    "\n"
   ]
  },
  {
   "cell_type": "code",
   "execution_count": 1,
   "id": "3bd80719",
   "metadata": {},
   "outputs": [
    {
     "name": "stdout",
     "output_type": "stream",
     "text": [
      "A\n"
     ]
    }
   ],
   "source": [
    "#short hand if else statements \n",
    "\n",
    "a = 5978\n",
    "b = 24\n",
    "print(\"A\") if a>b else print(\"=\") if a==b else print(\"B\")"
   ]
  },
  {
   "cell_type": "markdown",
   "id": "ecebfaf2",
   "metadata": {},
   "source": [
    "Enumerete Function\n",
    "The enumerate() function adds a counter (index) to an iterable (like list, tuple, string) while looping."
   ]
  },
  {
   "cell_type": "markdown",
   "id": "3f01fbaf",
   "metadata": {},
   "source": [
    "marks = [12,78,72,58,98]\n",
    "for mark in marks:\n",
    "print(marsk)\n"
   ]
  },
  {
   "cell_type": "code",
   "execution_count": 3,
   "id": "8449c5b5",
   "metadata": {},
   "outputs": [
    {
     "name": "stdout",
     "output_type": "stream",
     "text": [
      "12\n",
      "78\n",
      "72\n",
      "saiyad awoseme\n",
      "58\n",
      "98\n"
     ]
    }
   ],
   "source": [
    "index = 0\n",
    "marks = [12,78,72,58,98]\n",
    "for mark in marks:\n",
    "    print(mark)\n",
    "    if (index==2):\n",
    "        print(\"saiyad awoseme\")\n",
    "    index += 1    \n",
    "\n"
   ]
  },
  {
   "cell_type": "code",
   "execution_count": null,
   "id": "2d4e2ede",
   "metadata": {},
   "outputs": [
    {
     "name": "stdout",
     "output_type": "stream",
     "text": [
      "12\n",
      "78\n",
      "72\n",
      "saiyad awoseme\n",
      "58\n",
      "98\n"
     ]
    }
   ],
   "source": [
    "#enamurate method\n",
    "marks = [12,78,72,58,98]\n",
    "for index,mark in enumerate(marks):\n",
    "    print(mark)\n",
    "    if (index==2):\n",
    "        print(\"saiyad awoseme\")\n",
    "       \n"
   ]
  },
  {
   "cell_type": "code",
   "execution_count": null,
   "id": "94da05a6",
   "metadata": {},
   "outputs": [],
   "source": []
  },
  {
   "cell_type": "markdown",
   "id": "9b4b6d8f",
   "metadata": {},
   "source": [
    "Importing in python\n",
    "\n",
    "Importing in Python\n",
    "\n",
    "👉 Importing means bringing external code (modules/libraries) into your program so you can use ready-made functions, classes, and tools without writing them from scratch."
   ]
  },
  {
   "cell_type": "markdown",
   "id": "47b35ba6",
   "metadata": {},
   "source": [
    "imp"
   ]
  },
  {
   "cell_type": "code",
   "execution_count": 7,
   "id": "fa63c186",
   "metadata": {},
   "outputs": [
    {
     "name": "stdout",
     "output_type": "stream",
     "text": [
      "3.0\n",
      "1.6989700043360187\n"
     ]
    }
   ],
   "source": [
    "import math\n",
    "result = math.sqrt(9)\n",
    "print(result)\n",
    "\n",
    "a = math.log10(50)\n",
    "print(a)"
   ]
  },
  {
   "cell_type": "code",
   "execution_count": null,
   "id": "5d6b1447",
   "metadata": {},
   "outputs": [],
   "source": []
  }
 ],
 "metadata": {
  "kernelspec": {
   "display_name": "base",
   "language": "python",
   "name": "python3"
  },
  "language_info": {
   "codemirror_mode": {
    "name": "ipython",
    "version": 3
   },
   "file_extension": ".py",
   "mimetype": "text/x-python",
   "name": "python",
   "nbconvert_exporter": "python",
   "pygments_lexer": "ipython3",
   "version": "3.12.4"
  }
 },
 "nbformat": 4,
 "nbformat_minor": 5
}
