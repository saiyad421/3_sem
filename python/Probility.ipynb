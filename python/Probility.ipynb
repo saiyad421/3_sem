{
 "cells": [
  {
   "cell_type": "markdown",
   "id": "49785b03",
   "metadata": {},
   "source": [
    "Probility distribution function(PDF)....\n",
    "\n",
    "It is work on descrete random variables..."
   ]
  },
  {
   "cell_type": "code",
   "execution_count": 6,
   "id": "85012e27",
   "metadata": {},
   "outputs": [],
   "source": [
    "import pandas as pd"
   ]
  },
  {
   "cell_type": "code",
   "execution_count": 16,
   "id": "eb44919c",
   "metadata": {},
   "outputs": [
    {
     "data": {
      "text/plain": [
       "[2, 3, 5, 6, 6]"
      ]
     },
     "execution_count": 16,
     "metadata": {},
     "output_type": "execute_result"
    }
   ],
   "source": [
    "import random\n",
    "\n",
    "L = []\n",
    "for i in range(1000):#range \n",
    "    L.append(random.randint(1,6)) #random variable 1 to 6\n",
    "\n",
    "len(L) #lenth of range\n",
    "\n",
    "L[:5] #0 to 5 tak random variables \n",
    "\n",
    "\n",
    "\n"
   ]
  },
  {
   "cell_type": "code",
   "execution_count": 17,
   "id": "ece6fc8d",
   "metadata": {},
   "outputs": [],
   "source": [
    "s=pd.Series(L).value_counts()/pd.Series(L).value_counts().sum()"
   ]
  },
  {
   "cell_type": "code",
   "execution_count": 18,
   "id": "24ea6a84",
   "metadata": {},
   "outputs": [
    {
     "data": {
      "text/plain": [
       "2    0.177\n",
       "6    0.173\n",
       "3    0.172\n",
       "4    0.165\n",
       "5    0.157\n",
       "1    0.156\n",
       "Name: count, dtype: float64"
      ]
     },
     "execution_count": 18,
     "metadata": {},
     "output_type": "execute_result"
    }
   ],
   "source": [
    "s"
   ]
  },
  {
   "cell_type": "code",
   "execution_count": 19,
   "id": "c20d853a",
   "metadata": {},
   "outputs": [
    {
     "data": {
      "text/plain": [
       "<Axes: >"
      ]
     },
     "execution_count": 19,
     "metadata": {},
     "output_type": "execute_result"
    },
    {
     "data": {
      "image/png": "[encoded data removed]",
      "text/plain": [
       "<Figure size 640x480 with 1 Axes>"
      ]
     },
     "metadata": {},
     "output_type": "display_data"
    }
   ],
   "source": [
    "s.plot(kind=\"bar\")"
   ]
  },
  {
   "cell_type": "markdown",
   "id": "af018c58",
   "metadata": {},
   "source": [
    "CDF (Cumulative Distribution Function)\n",
    "\n",
    "The CDF is the cumulative probability up to a certain value.\n",
    "\n",
    "It is defined as:"
   ]
  },
  {
   "cell_type": "code",
   "execution_count": null,
   "id": "726a2b2b",
   "metadata": {},
   "outputs": [
    {
     "data": {
      "text/plain": [
       "<Axes: >"
      ]
     },
     "execution_count": 20,
     "metadata": {},
     "output_type": "execute_result"
    },
    {
     "data": {
      "image/png": "[encoded data removed]",
      "text/plain": [
       "<Figure size 640x480 with 1 Axes>"
      ]
     },
     "metadata": {},
     "output_type": "display_data"
    }
   ],
   "source": [
    "import numpy as np\n",
    "\n",
    "np.cumsum(s).plot(kind = \"bar\")  #CDF of Mass Function(PMF)"
   ]
  },
  {
   "cell_type": "code",
   "execution_count": null,
   "id": "bcfc43fe",
   "metadata": {},
   "outputs": [],
   "source": []
  },
  {
   "cell_type": "markdown",
   "id": "8c1ed45d",
   "metadata": {},
   "source": [
    "Density Estimator:\n",
    "A method or tool that estimates how data is distributed (i.e., guesses the probability density function) from a set of data points.\n",
    "\n",
    "In other words: It tells us where data points are concentrated and how likely different values are.\n",
    "\n",
    "Where it is used\n",
    "\n",
    "Data analysis / statistics – to understand the distribution of data.\n",
    "\n",
    "Machine learning – for anomaly detection, clustering, generative models.\n",
    "\n",
    "Visualization – plotting histograms or smooth density curves to see patterns.\n",
    "\n",
    "Probability calculations – estimating probabilities when the true PDF is"
   ]
  },
  {
   "cell_type": "markdown",
   "id": "9ad21182",
   "metadata": {},
   "source": []
  },
  {
   "cell_type": "code",
   "execution_count": null,
   "id": "3b82528d",
   "metadata": {},
   "outputs": [],
   "source": [
    "#Parametric density = fit a known distribution to your data and use its formula to get probabilities.\n",
    "\n"
   ]
  }
 ],
 "metadata": {
  "kernelspec": {
   "display_name": "base",
   "language": "python",
   "name": "python3"
  },
  "language_info": {
   "codemirror_mode": {
    "name": "ipython",
    "version": 3
   },
   "file_extension": ".py",
   "mimetype": "text/x-python",
   "name": "python",
   "nbconvert_exporter": "python",
   "pygments_lexer": "ipython3",
   "version": "3.12.4"
  }
 },
 "nbformat": 4,
 "nbformat_minor": 5
}
