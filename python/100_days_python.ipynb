{
 "cells": [
  {
   "cell_type": "markdown",
   "id": "88e07963",
   "metadata": {},
   "source": [
    "Day 28\n",
    "\n",
    "F String in python.."
   ]
  },
  {
   "cell_type": "code",
   "execution_count": 2,
   "id": "88e79d3a",
   "metadata": {},
   "outputs": [
    {
     "name": "stdout",
     "output_type": "stream",
     "text": [
      "my nane is Saiyad from Bihar\n"
     ]
    }
   ],
   "source": [
    "latter = \"Hey my name is md {} and i am from {}\"\n",
    "\n",
    "name=\"Saiyad\"\n",
    "live = \"Bihar\"\n",
    "\n",
    "latter.format(name,live)\n",
    "\n",
    "\n",
    "print(f\"my nane is {name} from {live}\")"
   ]
  },
  {
   "cell_type": "code",
   "execution_count": 3,
   "id": "d7213486",
   "metadata": {},
   "outputs": [
    {
     "name": "stdout",
     "output_type": "stream",
     "text": [
      "10\n"
     ]
    },
    {
     "data": {
      "text/plain": [
       "'it take string in the input'"
      ]
     },
     "execution_count": 3,
     "metadata": {},
     "output_type": "execute_result"
    }
   ],
   "source": [
    "def cust(n):\n",
    "    '''it take string in the input'''\n",
    "    print(n)\n",
    "\n",
    "cust(10)\n",
    "cust.__doc__    "
   ]
  },
  {
   "cell_type": "code",
   "execution_count": 5,
   "id": "cca638f4",
   "metadata": {},
   "outputs": [
    {
     "name": "stdout",
     "output_type": "stream",
     "text": [
      "1\n",
      "2\n",
      "3\n",
      "4\n",
      "5\n",
      "6\n",
      "7\n",
      "8\n",
      "9\n",
      "no more loop...\n"
     ]
    }
   ],
   "source": [
    "for i in range(1,10):\n",
    "    print(i)\n",
    "    if i == 5:\n",
    "        continue\n",
    "\n",
    "else:\n",
    "    print(\"no more loop...\")    "
   ]
  },
  {
   "cell_type": "code",
   "execution_count": 10,
   "id": "eef7f992",
   "metadata": {},
   "outputs": [
    {
     "name": "stdout",
     "output_type": "stream",
     "text": [
      "120\n"
     ]
    },
    {
     "data": {
      "text/plain": [
       "'it is factorial any integer number '"
      ]
     },
     "execution_count": 10,
     "metadata": {},
     "output_type": "execute_result"
    }
   ],
   "source": [
    "def factorial(n):\n",
    "    \"it is factorial any integer number \"\n",
    "    if n==0 or n==1:\n",
    "        return 1\n",
    "    \n",
    "    return n * factorial(n-1)\n",
    "\n",
    "print(factorial(5))\n",
    "factorial.__doc__\n",
    "\n"
   ]
  },
  {
   "cell_type": "code",
   "execution_count": 10,
   "id": "a2ee9c46",
   "metadata": {},
   "outputs": [
    {
     "name": "stdout",
     "output_type": "stream",
     "text": [
      "1\n",
      "2\n",
      "3\n",
      "4\n",
      "5\n",
      "6\n",
      "7\n",
      "8\n",
      "9\n",
      "None\n",
      "It take input from user\n",
      "      \n"
     ]
    }
   ],
   "source": [
    "#docstring \n",
    "\n",
    "def number(n):\n",
    "    '''It take input from user\n",
    "      '''\n",
    "    for i in range(1,n):\n",
    "        print(i)\n",
    "        \n",
    "    \n",
    "print(number(10))\n",
    "print(number.__doc__)\n"
   ]
  },
  {
   "cell_type": "code",
   "execution_count": 13,
   "id": "78d03a1b",
   "metadata": {},
   "outputs": [
    {
     "name": "stdout",
     "output_type": "stream",
     "text": [
      "1\n",
      "2\n",
      "3\n",
      "4\n",
      "5\n",
      "6\n",
      "7\n",
      "8\n",
      "9\n",
      "10\n",
      "11\n",
      "12\n",
      "no more loop\n",
      "None\n",
      "it take a num\n"
     ]
    }
   ],
   "source": [
    "def new(n):\n",
    "    \"\"\"it take a num\"\"\"\n",
    "    for i in range(1,n+1):\n",
    "        print(i)\n",
    "        \n",
    "\n",
    "    else:\n",
    "       print(\"no more loop\")   \n",
    "print(new(12)) \n",
    "print(new.__doc__)           "
   ]
  },
  {
   "cell_type": "code",
   "execution_count": null,
   "id": "9b510cf9",
   "metadata": {},
   "outputs": [],
   "source": []
  }
 ],
 "metadata": {
  "kernelspec": {
   "display_name": "base",
   "language": "python",
   "name": "python3"
  },
  "language_info": {
   "codemirror_mode": {
    "name": "ipython",
    "version": 3
   },
   "file_extension": ".py",
   "mimetype": "text/x-python",
   "name": "python",
   "nbconvert_exporter": "python",
   "pygments_lexer": "ipython3",
   "version": "3.12.4"
  }
 },
 "nbformat": 4,
 "nbformat_minor": 5
}
