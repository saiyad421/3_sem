{
 "cells": [
  {
   "cell_type": "markdown",
   "id": "77ac64cd",
   "metadata": {},
   "source": [
    "what is stack"
   ]
  },
  {
   "cell_type": "markdown",
   "id": "76347452",
   "metadata": {},
   "source": [
    "it work on the the principal of last in first out."
   ]
  },
  {
   "cell_type": "code",
   "execution_count": 2,
   "id": "b0a0290a",
   "metadata": {},
   "outputs": [],
   "source": [
    "stack=[]"
   ]
  },
  {
   "cell_type": "code",
   "execution_count": 22,
   "id": "9bd7d67f",
   "metadata": {},
   "outputs": [],
   "source": [
    "stack.append(6)\n",
    "stack.append(7)\n",
    "stack.append(6)\n",
    "stack.append(6)\n",
    "stack.append(8)\n",
    "stack.append(6)\n",
    "stack.append(6)\n",
    "stack.append(6)\n",
    "stack.append(6)\n",
    "stack.append(6)"
   ]
  },
  {
   "cell_type": "code",
   "execution_count": 23,
   "id": "45d243b0",
   "metadata": {},
   "outputs": [
    {
     "data": {
      "text/plain": [
       "10"
      ]
     },
     "execution_count": 23,
     "metadata": {},
     "output_type": "execute_result"
    }
   ],
   "source": [
    "len(stack)"
   ]
  },
  {
   "cell_type": "code",
   "execution_count": 24,
   "id": "1f7b8e28",
   "metadata": {},
   "outputs": [
    {
     "name": "stdout",
     "output_type": "stream",
     "text": [
      "stack is empty\n"
     ]
    }
   ],
   "source": [
    "for i in range(15):\n",
    "    if len(stack)==0:\n",
    "        print(\"stack is empty\")\n",
    "        break\n",
    "    stack.pop()"
   ]
  },
  {
   "cell_type": "code",
   "execution_count": 21,
   "id": "b1ba2ee4",
   "metadata": {},
   "outputs": [
    {
     "data": {
      "text/plain": [
       "[]"
      ]
     },
     "execution_count": 21,
     "metadata": {},
     "output_type": "execute_result"
    }
   ],
   "source": [
    "stack"
   ]
  },
  {
   "cell_type": "code",
   "execution_count": 5,
   "id": "60ae5d10",
   "metadata": {},
   "outputs": [],
   "source": [
    "def push():\n",
    "    return 1"
   ]
  },
  {
   "cell_type": "code",
   "execution_count": 6,
   "id": "5e37021f",
   "metadata": {},
   "outputs": [
    {
     "data": {
      "text/plain": [
       "1"
      ]
     },
     "execution_count": 6,
     "metadata": {},
     "output_type": "execute_result"
    }
   ],
   "source": [
    "push()"
   ]
  },
  {
   "cell_type": "code",
   "execution_count": null,
   "id": "8b7bcd53",
   "metadata": {},
   "outputs": [],
   "source": []
  }
 ],
 "metadata": {
  "kernelspec": {
   "display_name": "base",
   "language": "python",
   "name": "python3"
  },
  "language_info": {
   "codemirror_mode": {
    "name": "ipython",
    "version": 3
   },
   "file_extension": ".py",
   "mimetype": "text/x-python",
   "name": "python",
   "nbconvert_exporter": "python",
   "pygments_lexer": "ipython3",
   "version": "3.12.4"
  }
 },
 "nbformat": 4,
 "nbformat_minor": 5
}
