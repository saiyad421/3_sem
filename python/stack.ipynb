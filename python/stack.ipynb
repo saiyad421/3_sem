{
 "cells": [
  {
   "cell_type": "markdown",
   "id": "77ac64cd",
   "metadata": {},
   "source": [
    "what is stack"
   ]
  },
  {
   "cell_type": "markdown",
   "id": "76347452",
   "metadata": {},
   "source": [
    "stack ?\n",
    "stack is data structure that store element speasific order like last in first out..\n",
    "\n",
    "means ?\n",
    "last element put in  the first in the come out \n"
   ]
  },
  {
   "cell_type": "code",
   "execution_count": 2,
   "id": "930153c8",
   "metadata": {},
   "outputs": [
    {
     "data": {
      "text/plain": [
       "[10, 20, 30]"
      ]
     },
     "execution_count": 2,
     "metadata": {},
     "output_type": "execute_result"
    }
   ],
   "source": [
    "#empty stack\n",
    "stack =[]\n",
    "\n",
    "stack.append(10)\n",
    "stack.append(20)\n",
    "stack.append(30)\n",
    "\n",
    "stack"
   ]
  },
  {
   "cell_type": "markdown",
   "id": "be24f71d",
   "metadata": {},
   "source": [
    "basic opration of stack ?\n",
    "1. Push"
   ]
  },
  {
   "cell_type": "markdown",
   "id": "c92edad4",
   "metadata": {},
   "source": []
  },
  {
   "cell_type": "code",
   "execution_count": 5,
   "id": "9d5b53f7",
   "metadata": {},
   "outputs": [
    {
     "data": {
      "text/plain": [
       "10"
      ]
     },
     "execution_count": 5,
     "metadata": {},
     "output_type": "execute_result"
    }
   ],
   "source": [
    "#emty stack\n",
    "stack =[]\n",
    "\n",
    "stack.append(10)\n",
    "stack.append(20)\n",
    "stack.append(30)\n",
    "\n",
    "stack\n",
    "\n",
    "#pop stack means last in first out like undo\n",
    "stack.pop()\n",
    "stack.pop()\n",
    "stack.pop()\n"
   ]
  },
  {
   "cell_type": "code",
   "execution_count": null,
   "id": "37c5492a",
   "metadata": {},
   "outputs": [],
   "source": []
  },
  {
   "cell_type": "code",
   "execution_count": null,
   "id": "fd15876c",
   "metadata": {},
   "outputs": [],
   "source": []
  }
 ],
 "metadata": {
  "kernelspec": {
   "display_name": "base",
   "language": "python",
   "name": "python3"
  },
  "language_info": {
   "codemirror_mode": {
    "name": "ipython",
    "version": 3
   },
   "file_extension": ".py",
   "mimetype": "text/x-python",
   "name": "python",
   "nbconvert_exporter": "python",
   "pygments_lexer": "ipython3",
   "version": "3.12.4"
  }
 },
 "nbformat": 4,
 "nbformat_minor": 5
}
