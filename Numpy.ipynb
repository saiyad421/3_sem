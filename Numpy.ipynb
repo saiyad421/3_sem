{
 "cells": [
  {
   "cell_type": "code",
   "execution_count": 1,
   "id": "1a5da7fa",
   "metadata": {},
   "outputs": [],
   "source": [
    "import numpy as np"
   ]
  },
  {
   "cell_type": "markdown",
   "id": "556c93b8",
   "metadata": {},
   "source": [
    "Creating Array"
   ]
  },
  {
   "cell_type": "code",
   "execution_count": 3,
   "id": "1e393658",
   "metadata": {},
   "outputs": [],
   "source": [
    "a = np.array([1,2,3,4]) #1D Array\n",
    "b = np.array([[1,2,3,4],[3,4,5,7]]) #2D Array"
   ]
  },
  {
   "cell_type": "markdown",
   "id": "67262c9c",
   "metadata": {},
   "source": [
    "Speacial Array"
   ]
  },
  {
   "cell_type": "code",
   "execution_count": 4,
   "id": "9e394700",
   "metadata": {},
   "outputs": [
    {
     "data": {
      "text/plain": [
       "array([0., 0., 0., 0., 0.])"
      ]
     },
     "execution_count": 4,
     "metadata": {},
     "output_type": "execute_result"
    }
   ],
   "source": [
    "np.zeros(5)  # fill 5 element of zero"
   ]
  },
  {
   "cell_type": "code",
   "execution_count": 5,
   "id": "2a920e4b",
   "metadata": {},
   "outputs": [
    {
     "data": {
      "text/plain": [
       "array([[1., 1., 1.],\n",
       "       [1., 1., 1.]])"
      ]
     },
     "execution_count": 5,
     "metadata": {},
     "output_type": "execute_result"
    }
   ],
   "source": [
    "np.ones((2,3))  #2 * 3 Array of 1"
   ]
  },
  {
   "cell_type": "code",
   "execution_count": 6,
   "id": "f84a1dd8",
   "metadata": {},
   "outputs": [
    {
     "data": {
      "text/plain": [
       "array([[1., 0., 0.],\n",
       "       [0., 1., 0.],\n",
       "       [0., 0., 1.]])"
      ]
     },
     "execution_count": 6,
     "metadata": {},
     "output_type": "execute_result"
    }
   ],
   "source": [
    "np.eye(3)  # 3 * 3 Indentity Matrix"
   ]
  },
  {
   "cell_type": "code",
   "execution_count": 7,
   "id": "8103e21b",
   "metadata": {},
   "outputs": [
    {
     "data": {
      "text/plain": [
       "array([ 0,  3,  6,  9, 12, 15, 18])"
      ]
     },
     "execution_count": 7,
     "metadata": {},
     "output_type": "execute_result"
    }
   ],
   "source": [
    "np.arange(0,20,3)"
   ]
  },
  {
   "cell_type": "code",
   "execution_count": 9,
   "id": "94d11273",
   "metadata": {},
   "outputs": [
    {
     "data": {
      "text/plain": [
       "array([0. , 0.5, 1. , 1.5, 2. ])"
      ]
     },
     "execution_count": 9,
     "metadata": {},
     "output_type": "execute_result"
    }
   ],
   "source": [
    "np.linspace(0,2,5)  #5 Values from 0 to 1 equally speced"
   ]
  },
  {
   "cell_type": "code",
   "execution_count": 13,
   "id": "e28329e3",
   "metadata": {},
   "outputs": [
    {
     "data": {
      "text/plain": [
       "array([[0.07453056, 0.65725138, 0.39333778],\n",
       "       [0.79509458, 0.20741427, 0.80407516],\n",
       "       [0.32060353, 0.67956109, 0.56744522]])"
      ]
     },
     "execution_count": 13,
     "metadata": {},
     "output_type": "execute_result"
    }
   ],
   "source": [
    "np.random.rand(3,3) #Random Numbers 0 to 1\n"
   ]
  },
  {
   "cell_type": "code",
   "execution_count": null,
   "id": "de532f4d",
   "metadata": {},
   "outputs": [
    {
     "data": {
      "text/plain": [
       "array([[5, 8, 8],\n",
       "       [4, 1, 2]])"
      ]
     },
     "execution_count": 14,
     "metadata": {},
     "output_type": "execute_result"
    }
   ],
   "source": [
    "np.random.randint(1,10, size=(2,3)) #random integers"
   ]
  },
  {
   "cell_type": "markdown",
   "id": "bdc616b6",
   "metadata": {},
   "source": [
    "Array Attributes"
   ]
  },
  {
   "cell_type": "code",
   "execution_count": 18,
   "id": "6ca5cdd3",
   "metadata": {},
   "outputs": [
    {
     "data": {
      "text/plain": [
       "array([[1, 5, 7, 2],\n",
       "       [2, 8, 3, 8]])"
      ]
     },
     "execution_count": 18,
     "metadata": {},
     "output_type": "execute_result"
    }
   ],
   "source": [
    "arr = np.array([[1,5,7,2],[2,8,3,8]])\n",
    "\n",
    "arr\n"
   ]
  },
  {
   "cell_type": "code",
   "execution_count": 19,
   "id": "eb94d15b",
   "metadata": {},
   "outputs": [
    {
     "data": {
      "text/plain": [
       "(2, 4)"
      ]
     },
     "execution_count": 19,
     "metadata": {},
     "output_type": "execute_result"
    }
   ],
   "source": [
    "#Shape\n",
    "arr.shape"
   ]
  },
  {
   "cell_type": "code",
   "execution_count": 22,
   "id": "cac2890d",
   "metadata": {},
   "outputs": [
    {
     "data": {
      "text/plain": [
       "8"
      ]
     },
     "execution_count": 22,
     "metadata": {},
     "output_type": "execute_result"
    }
   ],
   "source": [
    "#Size\n",
    "arr.size #Total Numbers in elemnts"
   ]
  },
  {
   "cell_type": "code",
   "execution_count": null,
   "id": "0db294a0",
   "metadata": {},
   "outputs": [
    {
     "data": {
      "text/plain": [
       "2"
      ]
     },
     "execution_count": 24,
     "metadata": {},
     "output_type": "execute_result"
    }
   ],
   "source": [
    "#ndim\n",
    "\n",
    "arr.ndim #N Dimensional Array"
   ]
  },
  {
   "cell_type": "code",
   "execution_count": null,
   "id": "4356ba63",
   "metadata": {},
   "outputs": [
    {
     "data": {
      "text/plain": [
       "dtype('int32')"
      ]
     },
     "execution_count": 25,
     "metadata": {},
     "output_type": "execute_result"
    }
   ],
   "source": [
    "#dtype\n",
    "arr.dtype #data Types"
   ]
  },
  {
   "cell_type": "markdown",
   "id": "1f020538",
   "metadata": {},
   "source": [
    "Array Indexing & Slicing"
   ]
  },
  {
   "cell_type": "code",
   "execution_count": null,
   "id": "d5768aab",
   "metadata": {},
   "outputs": [
    {
     "data": {
      "text/plain": [
       "array([10, 20, 30])"
      ]
     },
     "execution_count": 26,
     "metadata": {},
     "output_type": "execute_result"
    }
   ],
   "source": [
    "#1D Array\n",
    "a = np.array([10,20,30,40])\n",
    "a[0]  #10\n",
    "a[0:3] #10,20,30"
   ]
  },
  {
   "cell_type": "code",
   "execution_count": 27,
   "id": "68ebf34c",
   "metadata": {},
   "outputs": [
    {
     "data": {
      "text/plain": [
       "array([3, 6])"
      ]
     },
     "execution_count": 27,
     "metadata": {},
     "output_type": "execute_result"
    }
   ],
   "source": [
    "#2D Array\n",
    "arr2 = np.array([[1,2,3],[4,5,6]])\n",
    "arr2[0,1]\n",
    "arr2[1,:]\n",
    "arr2[:,2]"
   ]
  },
  {
   "cell_type": "markdown",
   "id": "42ad1335",
   "metadata": {},
   "source": [
    "Array Operations"
   ]
  },
  {
   "cell_type": "code",
   "execution_count": 28,
   "id": "0d8e53c9",
   "metadata": {},
   "outputs": [
    {
     "data": {
      "text/plain": [
       "array([5, 7, 9])"
      ]
     },
     "execution_count": 28,
     "metadata": {},
     "output_type": "execute_result"
    }
   ],
   "source": [
    "a = np.array([1,2,3])\n",
    "b = np.array([4,5,6])\n",
    "\n",
    "a+b"
   ]
  },
  {
   "cell_type": "code",
   "execution_count": 29,
   "id": "0fe12bf5",
   "metadata": {},
   "outputs": [
    {
     "data": {
      "text/plain": [
       "array([-3, -3, -3])"
      ]
     },
     "execution_count": 29,
     "metadata": {},
     "output_type": "execute_result"
    }
   ],
   "source": [
    "a-b"
   ]
  },
  {
   "cell_type": "code",
   "execution_count": 30,
   "id": "ff53a09e",
   "metadata": {},
   "outputs": [
    {
     "data": {
      "text/plain": [
       "array([ 4, 10, 18])"
      ]
     },
     "execution_count": 30,
     "metadata": {},
     "output_type": "execute_result"
    }
   ],
   "source": [
    "a*b"
   ]
  },
  {
   "cell_type": "code",
   "execution_count": 31,
   "id": "207809fb",
   "metadata": {},
   "outputs": [
    {
     "data": {
      "text/plain": [
       "array([0, 0, 0])"
      ]
     },
     "execution_count": 31,
     "metadata": {},
     "output_type": "execute_result"
    }
   ],
   "source": [
    "a//b"
   ]
  },
  {
   "cell_type": "code",
   "execution_count": 32,
   "id": "44be9075",
   "metadata": {},
   "outputs": [
    {
     "data": {
      "text/plain": [
       "array([1, 4, 9])"
      ]
     },
     "execution_count": 32,
     "metadata": {},
     "output_type": "execute_result"
    }
   ],
   "source": [
    "a**2"
   ]
  },
  {
   "cell_type": "markdown",
   "id": "9508c641",
   "metadata": {},
   "source": [
    "Mathematical Function\""
   ]
  },
  {
   "cell_type": "code",
   "execution_count": 34,
   "id": "fb143529",
   "metadata": {},
   "outputs": [
    {
     "data": {
      "text/plain": [
       "array([1.        , 1.41421356, 1.73205081])"
      ]
     },
     "execution_count": 34,
     "metadata": {},
     "output_type": "execute_result"
    }
   ],
   "source": [
    "arr3 = np.array([1,2,3])\n",
    "\n",
    "np.sqrt(arr3)"
   ]
  },
  {
   "cell_type": "code",
   "execution_count": 35,
   "id": "2099902e",
   "metadata": {},
   "outputs": [
    {
     "data": {
      "text/plain": [
       "array([ 2.71828183,  7.3890561 , 20.08553692])"
      ]
     },
     "execution_count": 35,
     "metadata": {},
     "output_type": "execute_result"
    }
   ],
   "source": [
    "np.exp(arr3)"
   ]
  },
  {
   "cell_type": "code",
   "execution_count": 36,
   "id": "6f491cf5",
   "metadata": {},
   "outputs": [
    {
     "data": {
      "text/plain": [
       "array([0.84147098, 0.90929743, 0.14112001])"
      ]
     },
     "execution_count": 36,
     "metadata": {},
     "output_type": "execute_result"
    }
   ],
   "source": [
    "np.sin(arr3)"
   ]
  },
  {
   "cell_type": "code",
   "execution_count": 6,
   "id": "1b342ecd",
   "metadata": {},
   "outputs": [
    {
     "name": "stdout",
     "output_type": "stream",
     "text": [
      "     Name  Age  Marks       City\n",
      "0    Amit   23     85      Delhi\n",
      "1    Neha   21     90     Mumbai\n",
      "2     Raj   25     78    Kolkata\n",
      "3  Simran   22     88    Chennai\n",
      "4   Arjun   24     92  Bangalore\n"
     ]
    }
   ],
   "source": [
    "import pandas as pd \n",
    "import numpy as np \n",
    "import seaborn as sns\n",
    "\n",
    "# Creating a DataFrame\n",
    "data = {\n",
    "    \"Name\": [\"Amit\", \"Neha\", \"Raj\", \"Simran\", \"Arjun\"],\n",
    "    \"Age\": [23, 21, 25, 22, 24],\n",
    "    \"Marks\": [85, 90, 78, 88, 92],\n",
    "    \"City\": [\"Delhi\", \"Mumbai\", \"Kolkata\", \"Chennai\", \"Bangalore\"]\n",
    "}\n",
    "\n",
    "df = pd.DataFrame(data)\n",
    "\n",
    "print(df)\n"
   ]
  },
  {
   "cell_type": "code",
   "execution_count": 7,
   "id": "2d09ac16",
   "metadata": {},
   "outputs": [
    {
     "data": {
      "text/html": [
       "<div>\n",
       "<style scoped>\n",
       "    .dataframe tbody tr th:only-of-type {\n",
       "        vertical-align: middle;\n",
       "    }\n",
       "\n",
       "    .dataframe tbody tr th {\n",
       "        vertical-align: top;\n",
       "    }\n",
       "\n",
       "    .dataframe thead th {\n",
       "        text-align: right;\n",
       "    }\n",
       "</style>\n",
       "<table border=\"1\" class=\"dataframe\">\n",
       "  <thead>\n",
       "    <tr style=\"text-align: right;\">\n",
       "      <th></th>\n",
       "      <th>Name</th>\n",
       "      <th>Age</th>\n",
       "      <th>Marks</th>\n",
       "      <th>City</th>\n",
       "    </tr>\n",
       "  </thead>\n",
       "  <tbody>\n",
       "    <tr>\n",
       "      <th>0</th>\n",
       "      <td>Amit</td>\n",
       "      <td>23</td>\n",
       "      <td>85</td>\n",
       "      <td>Delhi</td>\n",
       "    </tr>\n",
       "    <tr>\n",
       "      <th>1</th>\n",
       "      <td>Neha</td>\n",
       "      <td>21</td>\n",
       "      <td>90</td>\n",
       "      <td>Mumbai</td>\n",
       "    </tr>\n",
       "    <tr>\n",
       "      <th>2</th>\n",
       "      <td>Raj</td>\n",
       "      <td>25</td>\n",
       "      <td>78</td>\n",
       "      <td>Kolkata</td>\n",
       "    </tr>\n",
       "    <tr>\n",
       "      <th>3</th>\n",
       "      <td>Simran</td>\n",
       "      <td>22</td>\n",
       "      <td>88</td>\n",
       "      <td>Chennai</td>\n",
       "    </tr>\n",
       "    <tr>\n",
       "      <th>4</th>\n",
       "      <td>Arjun</td>\n",
       "      <td>24</td>\n",
       "      <td>92</td>\n",
       "      <td>Bangalore</td>\n",
       "    </tr>\n",
       "  </tbody>\n",
       "</table>\n",
       "</div>"
      ],
      "text/plain": [
       "     Name  Age  Marks       City\n",
       "0    Amit   23     85      Delhi\n",
       "1    Neha   21     90     Mumbai\n",
       "2     Raj   25     78    Kolkata\n",
       "3  Simran   22     88    Chennai\n",
       "4   Arjun   24     92  Bangalore"
      ]
     },
     "execution_count": 7,
     "metadata": {},
     "output_type": "execute_result"
    }
   ],
   "source": [
    "df"
   ]
  },
  {
   "cell_type": "code",
   "execution_count": 10,
   "id": "1aff6e6f",
   "metadata": {},
   "outputs": [
    {
     "data": {
      "text/plain": [
       "<Axes: xlabel='Marks', ylabel='Density'>"
      ]
     },
     "execution_count": 10,
     "metadata": {},
     "output_type": "execute_result"
    },
    {
     "data": {
      "image/png": "[encoded data removed]",
      "text/plain": [
       "<Figure size 640x480 with 1 Axes>"
      ]
     },
     "metadata": {},
     "output_type": "display_data"
    }
   ],
   "source": [
    "sns.kdeplot(df[\"Marks\"],color = \"r\")"
   ]
  },
  {
   "cell_type": "code",
   "execution_count": 11,
   "id": "5a8c4211",
   "metadata": {},
   "outputs": [
    {
     "data": {
      "text/plain": [
       "86.6"
      ]
     },
     "execution_count": 11,
     "metadata": {},
     "output_type": "execute_result"
    }
   ],
   "source": [
    "df[\"Marks\"].mean()"
   ]
  },
  {
   "cell_type": "code",
   "execution_count": 12,
   "id": "b1913bd5",
   "metadata": {},
   "outputs": [
    {
     "data": {
      "text/plain": [
       "5.458937625582473"
      ]
     },
     "execution_count": 12,
     "metadata": {},
     "output_type": "execute_result"
    }
   ],
   "source": [
    "df[\"Marks\"].std()"
   ]
  },
  {
   "cell_type": "code",
   "execution_count": 15,
   "id": "1c53ca7f",
   "metadata": {},
   "outputs": [],
   "source": [
    "x = (df[\"Marks\"] - df[\"Marks\"].mean())/df[\"Marks\"].std()"
   ]
  },
  {
   "cell_type": "code",
   "execution_count": 16,
   "id": "a64ae469",
   "metadata": {},
   "outputs": [
    {
     "data": {
      "text/plain": [
       "0   -0.293097\n",
       "1    0.622832\n",
       "2   -1.575398\n",
       "3    0.256460\n",
       "4    0.989203\n",
       "Name: Marks, dtype: float64"
      ]
     },
     "execution_count": 16,
     "metadata": {},
     "output_type": "execute_result"
    }
   ],
   "source": [
    "x"
   ]
  },
  {
   "cell_type": "code",
   "execution_count": 17,
   "id": "809168db",
   "metadata": {},
   "outputs": [
    {
     "data": {
      "text/plain": [
       "<Axes: xlabel='Marks', ylabel='Density'>"
      ]
     },
     "execution_count": 17,
     "metadata": {},
     "output_type": "execute_result"
    },
    {
     "data": {
      "image/png": "[encoded data removed]",
      "text/plain": [
       "<Figure size 640x480 with 1 Axes>"
      ]
     },
     "metadata": {},
     "output_type": "display_data"
    }
   ],
   "source": [
    "sns.kdeplot(x)"
   ]
  },
  {
   "cell_type": "code",
   "execution_count": null,
   "id": "60ba1e6c",
   "metadata": {},
   "outputs": [],
   "source": []
  }
 ],
 "metadata": {
  "kernelspec": {
   "display_name": "base",
   "language": "python",
   "name": "python3"
  },
  "language_info": {
   "codemirror_mode": {
    "name": "ipython",
    "version": 3
   },
   "file_extension": ".py",
   "mimetype": "text/x-python",
   "name": "python",
   "nbconvert_exporter": "python",
   "pygments_lexer": "ipython3",
   "version": "3.12.4"
  }
 },
 "nbformat": 4,
 "nbformat_minor": 5
}
